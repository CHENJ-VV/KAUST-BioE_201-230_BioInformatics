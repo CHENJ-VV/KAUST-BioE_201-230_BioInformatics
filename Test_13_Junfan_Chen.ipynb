{
 "cells": [
  {
   "cell_type": "code",
   "execution_count": 7,
   "id": "1b48fa11",
   "metadata": {},
   "outputs": [],
   "source": [
    "def NumberToPair(digit):\n",
    "    if digit == 0:\n",
    "        pattern = 'A'\n",
    "    if digit == 1:\n",
    "        pattern = 'C'\n",
    "    if digit == 2:\n",
    "        pattern = 'G'\n",
    "    if digit == 3:\n",
    "        pattern = 'T'\n",
    "    return pattern"
   ]
  },
  {
   "cell_type": "code",
   "execution_count": 8,
   "id": "1e4fce96",
   "metadata": {},
   "outputs": [],
   "source": [
    "def returnPattern(digit, k):\n",
    "    if k == 1:\n",
    "        return NumberToPair(digit)\n",
    "    else:\n",
    "        rest = int(digit / 4)\n",
    "        remain = digit % 4\n",
    "        remainP = NumberToPair(remain)\n",
    "    \n",
    "        restPattern = returnPattern(rest, k - 1)\n",
    "\n",
    "        return restPattern + remainP"
   ]
  },
  {
   "cell_type": "code",
   "execution_count": 10,
   "id": "31d0ac52",
   "metadata": {},
   "outputs": [
    {
     "name": "stdout",
     "output_type": "stream",
     "text": [
      "AGTC\n"
     ]
    }
   ],
   "source": [
    "if __name__ == '__main__':\n",
    "    digit = 45\n",
    "    k = 4\n",
    "    \n",
    "    returnP = returnPattern(digit, k)\n",
    "    print(returnP)"
   ]
  }
 ],
 "metadata": {
  "kernelspec": {
   "display_name": "Python 3",
   "language": "python",
   "name": "python3"
  },
  "language_info": {
   "codemirror_mode": {
    "name": "ipython",
    "version": 3
   },
   "file_extension": ".py",
   "mimetype": "text/x-python",
   "name": "python",
   "nbconvert_exporter": "python",
   "pygments_lexer": "ipython3",
   "version": "3.8.8"
  }
 },
 "nbformat": 4,
 "nbformat_minor": 5
}
