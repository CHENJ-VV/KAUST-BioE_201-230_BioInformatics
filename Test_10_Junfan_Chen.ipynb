{
 "cells": [
  {
   "cell_type": "code",
   "execution_count": 74,
   "id": "59adf6ff",
   "metadata": {},
   "outputs": [],
   "source": [
    "def hammingDistance(substring_1, substring_2):\n",
    "    n_1 = len(substring_1)\n",
    "    n_2 = len(substring_2)\n",
    "    hammingCount = 0\n",
    "    if n_1 != n_2:\n",
    "        print('Two strings are not of the same length!')\n",
    "        exit()\n",
    "    for i in range(n_1):\n",
    "        if substring_1[i] != substring_2[i]:\n",
    "            hammingCount += 1\n",
    "    return hammingCount"
   ]
  },
  {
   "cell_type": "code",
   "execution_count": 75,
   "id": "f84b1193",
   "metadata": {},
   "outputs": [],
   "source": [
    "def hammingCount(substring, string, d):\n",
    "    n = len(string)\n",
    "    k = len(substring)\n",
    "    hammingNumber = 0\n",
    "    for i in range(n - k + 1):\n",
    "        compare = hammingDistance(substring, string[i : i + k])\n",
    "        if compare <= d:\n",
    "            hammingNumber += 1\n",
    "    return hammingNumber"
   ]
  },
  {
   "cell_type": "code",
   "execution_count": 76,
   "id": "bd77cac1",
   "metadata": {},
   "outputs": [],
   "source": [
    "from functools import reduce\n",
    "def basePairAssign(k):\n",
    "    basepair = ['A', 'C', 'G', 'T']\n",
    "    patternList = list(reduce(lambda x, y: [pair_1 + pair_2 for pair_1 in x for pair_2 in y], [basepair] * k))\n",
    "    # This command is used for alligning all posibilities of k-mers\n",
    "    # This is inspired by the weblink <https://blog.csdn.net/qq_43650934/article/details/107091746>\n",
    "    return patternList"
   ]
  },
  {
   "cell_type": "code",
   "execution_count": 77,
   "id": "bad7eafc",
   "metadata": {},
   "outputs": [],
   "source": [
    "def reverse(patternList, k):\n",
    "    pll = len(patternList)\n",
    "    patternList_reverse = [0] * pll\n",
    "    for i in range(pll):\n",
    "        stringOri = patternList[i]\n",
    "        temp = []\n",
    "        temp_reverse = []\n",
    "        for j in range(k):\n",
    "            if stringOri[j] == 'A':\n",
    "                temp.append('T')\n",
    "            elif stringOri[j] == 'C':\n",
    "                temp.append('G')\n",
    "            elif stringOri[j] == 'G':\n",
    "                temp.append('C')\n",
    "            elif stringOri[j] == 'T':\n",
    "                temp.append('A')\n",
    "        for p in range(k):\n",
    "            temp_reverse.append(temp[k - 1 - p])\n",
    "        temp_reverse = ''.join(temp_reverse)\n",
    "        patternList_reverse[i] = temp_reverse\n",
    "    return patternList_reverse"
   ]
  },
  {
   "cell_type": "code",
   "execution_count": 78,
   "id": "2492b07f",
   "metadata": {},
   "outputs": [],
   "source": [
    "def countPattern(string, patternList, patternList_reverse, d):\n",
    "    n = len(string)\n",
    "    pll = len(patternList)\n",
    "    count_cw = [0] * pll\n",
    "    count_re = [0] * pll\n",
    "    count = [0] * pll\n",
    "    for i in range(pll):\n",
    "        count_cw[i] = hammingCount(patternList[i], string, d) \n",
    "        count_re[i] = hammingCount(patternList_reverse[i], string, d)\n",
    "        count[i] = count_cw[i] + count_re[i]\n",
    "    return count"
   ]
  },
  {
   "cell_type": "code",
   "execution_count": 81,
   "id": "4016864f",
   "metadata": {},
   "outputs": [],
   "source": [
    "def frequentPattern(string, count):\n",
    "    Pattern = set()\n",
    "    maxNum = max(count)\n",
    "    for i in range(len(count)):\n",
    "        if count[i] == maxNum:\n",
    "            Pattern.update({patternList[i]})\n",
    "    Pattern = ' '.join(Pattern)\n",
    "    return Pattern"
   ]
  },
  {
   "cell_type": "code",
   "execution_count": 83,
   "id": "199eab68",
   "metadata": {
    "scrolled": true
   },
   "outputs": [
    {
     "name": "stdout",
     "output_type": "stream",
     "text": [
      "TATAGG CCTATA\n"
     ]
    }
   ],
   "source": [
    "if __name__ == '__main__':\n",
    "    string = 'GCATCTATGTCTAGAGCGTCGCCTGTCTAGAGCGGCTATTCCGTAAAGTCTAGAGCGGCTATTGGCTATTGGCTATTGCATCTATGTCGCCTGTCTAGAGCGCATCTATGGCTATTCCGTAAAGGCTATTGGCTATTGTCGCCTGTCGCCTGCATCTATGTCGCCTGTCTAGAGCGGCTATTGCATCTATGTCTAGAGCGCATCTATGCATCTATCCGTAAAGCATCTATGCATCTATGTCGCCTGGCTATTGTCTAGAGCCCGTAAACCGTAAAGTCGCCTGTCGCCTGTCTAGAGCGTCGCCTGTCTAGAGCGGCTATTGTCTAGAGCGGCTATTGCATCTATCCGTAAAGGCTATTCCGTAAAGGCTATTGGCTATTGTCTAGAGCGCATCTATGTCTAGAGCCCGTAAAGGCTATTGTCGCCTCCGTAAAGTCGCCTGCATCTATGTCTAGAGCGTCTAGAGCGTCTAGAGCGCATCTATCCGTAAAGGCTATTGCATCTATCCGTAAAGGCTATTGCATCTATGTCGCCTGGCTATTGTCGCCTGGCTATTGGCTATTGTCGCCTGTCGCCTCCGTAAACCGTAAACCGTAAAGTCGCCTGTCGCCTGCATCTATGTCTAGAGCGTCGCCTGGCTATTGTCTAGAGCGTCGCCTCCGTAAACCGTAAAGGCTATTCCGTAAACCGTAAACCGTAAAGCATCTATGTCGCCTGTCGCCTGTCTAGAGCGCATCTATGGCTATTCCGTAAACCGTAAACCGTAAAGTCTAGAGCGGCTATTCCGTAAAGTCGCCT'\n",
    "    k = 6\n",
    "    d = 2\n",
    "    patternList = basePairAssign(k)\n",
    "    patternList_reverse = reverse(patternList, k)\n",
    "    count = countPattern(string, patternList,patternList_reverse, d)\n",
    "    # print(max(count))\n",
    "    pattern = frequentPattern(string, count)\n",
    "    print(pattern)"
   ]
  }
 ],
 "metadata": {
  "kernelspec": {
   "display_name": "Python 3",
   "language": "python",
   "name": "python3"
  },
  "language_info": {
   "codemirror_mode": {
    "name": "ipython",
    "version": 3
   },
   "file_extension": ".py",
   "mimetype": "text/x-python",
   "name": "python",
   "nbconvert_exporter": "python",
   "pygments_lexer": "ipython3",
   "version": "3.8.8"
  }
 },
 "nbformat": 4,
 "nbformat_minor": 5
}
