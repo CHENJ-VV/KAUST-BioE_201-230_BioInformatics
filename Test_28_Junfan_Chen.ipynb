{
 "cells": [
  {
   "cell_type": "code",
   "execution_count": 1,
   "id": "66f382a2",
   "metadata": {},
   "outputs": [],
   "source": [
    "def read_In(fileName):\n",
    "    with open(fileName, 'r') as f:\n",
    "        composition = f.readlines()\n",
    "    n = len(composition)\n",
    "    for i in range(n):\n",
    "        if composition[i][-1] == '\\n':\n",
    "            composition[i] = composition[i][:-1]\n",
    "    composition.sort()\n",
    "    return composition"
   ]
  },
  {
   "cell_type": "code",
   "execution_count": 2,
   "id": "4bd83d7d",
   "metadata": {},
   "outputs": [],
   "source": [
    "def split_Graph(graph):\n",
    "    n = len(graph)\n",
    "    prefix = [0] * n\n",
    "    surffix = [0] * n\n",
    "    for i in range(n):\n",
    "        prefix[i], surffix[i] = graph[i].strip().split(' -> ')\n",
    "        prefix[i], surffix[i] = int(prefix[i]), list(map(int, surffix[i].split(',')))\n",
    "    return prefix, surffix"
   ]
  },
  {
   "cell_type": "code",
   "execution_count": 3,
   "id": "1df8f7a4",
   "metadata": {},
   "outputs": [],
   "source": [
    "def graph_to_dictionary(prefix, surffix):\n",
    "    n = len(prefix)\n",
    "    dictionary = {}\n",
    "    for i in range(n):\n",
    "        if prefix[i] not in dictionary.keys():\n",
    "            dictionary[prefix[i]] = surffix[i]\n",
    "    return dictionary"
   ]
  },
  {
   "cell_type": "code",
   "execution_count": 4,
   "id": "e55f14f5",
   "metadata": {},
   "outputs": [],
   "source": [
    "def remove_edge(dictionary, from_node, to_node):\n",
    "    dictionary[from_node].remove(to_node)\n",
    "    if not dictionary[from_node]:\n",
    "        del dictionary[from_node]\n",
    "    return dictionary"
   ]
  },
  {
   "cell_type": "code",
   "execution_count": 8,
   "id": "512289ef",
   "metadata": {},
   "outputs": [],
   "source": [
    "from random import choice\n",
    "def find_New_Cycle(dictionary):\n",
    "    \n",
    "    # Randomly choose a starting point\n",
    "    start_node, edges = choice(list(dictionary.items()))\n",
    "    target_node = choice(edges)\n",
    "    dictionary = remove_edge(dictionary, start_node, target_node)\n",
    "\n",
    "    cycle = [start_node, target_node]\n",
    "    # print(cycle)\n",
    "    current_node = target_node\n",
    "    while current_node != start_node:\n",
    "        edges = dictionary[current_node]\n",
    "        # extract one element in edges (if more than one nodes inside)\n",
    "        target_node = choice(edges)\n",
    "        dictionary = remove_edge(dictionary, current_node, target_node)\n",
    "        current_node = target_node\n",
    "        cycle.append(current_node)\n",
    "        # print(cycle)\n",
    "    return cycle\n",
    "\n"
   ]
  },
  {
   "cell_type": "code",
   "execution_count": 6,
   "id": "6bb36d41",
   "metadata": {},
   "outputs": [],
   "source": [
    "def find_Eulerian_Cycle(dictionary):\n",
    "\n",
    "    cycle = find_New_Cycle(dictionary)\n",
    "    \n",
    "    # while dictionary is not empty, do the while loop\n",
    "    while dictionary:\n",
    "        # search for node with unused egdes in dictionary\n",
    "        potential_starts = [(index, node) for index, node in enumerate(cycle) if node in dictionary]\n",
    "        index, new_start = choice(potential_starts)\n",
    "\n",
    "        # form new cycle:\n",
    "        # start at new_start node chosen above and then randomly walking\n",
    "        new_cycle = cycle[index:] + cycle[1 : index + 1]   # change start node of the existing cycle\n",
    "\n",
    "        target_node = choice(dictionary[new_start])\n",
    "        dictionary = remove_edge(dictionary, new_start, target_node)\n",
    "        current_node = target_node\n",
    "        new_cycle.append(current_node)\n",
    "        \n",
    "        while current_node != new_start:\n",
    "            edges = dictionary[current_node]\n",
    "            target_node = choice(edges)\n",
    "            dictionary = remove_edge(dictionary, current_node, target_node)\n",
    "            current_node = target_node\n",
    "            new_cycle.append(current_node)\n",
    "        cycle = new_cycle\n",
    "\n",
    "    return cycle"
   ]
  },
  {
   "cell_type": "code",
   "execution_count": 9,
   "id": "7c1eefb9",
   "metadata": {
    "scrolled": false
   },
   "outputs": [
    {
     "name": "stdout",
     "output_type": "stream",
     "text": [
      "6->8->7->9->6->5->4->2->1->0->3->2->6\n"
     ]
    }
   ],
   "source": [
    "if __name__ == '__main__':\n",
    "    graph = read_In('rtext.txt')\n",
    "    prefix, surffix = split_Graph(graph)\n",
    "    dictionary = graph_to_dictionary(prefix, surffix)\n",
    "    eulerian_cycle = find_Eulerian_Cycle(dictionary)\n",
    "    print('->'.join(map(str, eulerian_cycle)))"
   ]
  }
 ],
 "metadata": {
  "kernelspec": {
   "display_name": "Python 3",
   "language": "python",
   "name": "python3"
  },
  "language_info": {
   "codemirror_mode": {
    "name": "ipython",
    "version": 3
   },
   "file_extension": ".py",
   "mimetype": "text/x-python",
   "name": "python",
   "nbconvert_exporter": "python",
   "pygments_lexer": "ipython3",
   "version": "3.8.8"
  }
 },
 "nbformat": 4,
 "nbformat_minor": 5
}
