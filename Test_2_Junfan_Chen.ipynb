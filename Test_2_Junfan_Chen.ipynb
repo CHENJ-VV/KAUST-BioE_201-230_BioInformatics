{
 "cells": [
  {
   "cell_type": "code",
   "execution_count": 11,
   "id": "5b670770",
   "metadata": {
    "scrolled": false
   },
   "outputs": [
    {
     "name": "stdout",
     "output_type": "stream",
     "text": [
      "GGAAGCTTGGCAC ACTTGAAATGCGG ATGCGGAAGCTTG TTGAAATGCGGAA CTTGAAATGCGGA CGGAAGCTTGGCA TACTTGAAATGCG GCGGAAGCTTGGC TGCGGAAGCTTGG\n"
     ]
    }
   ],
   "source": [
    "def PatternCount(pattern, text):\n",
    "    count_p = 0\n",
    "    n_p = len(text)\n",
    "    k_p = len(pattern)\n",
    "    for i_p in range(n_p - k_p + 1):\n",
    "        if text[ i_p : i_p + k_p ] == pattern:\n",
    "            count_p += 1\n",
    "    return count_p\n",
    "\n",
    "def MostFrequentWord(text, k):\n",
    "    n = len(text)\n",
    "    count = [0] * (n - k + 1)\n",
    "    for i in range(n - k + 1):\n",
    "        count[i] = PatternCount(text[i : i + k], text)\n",
    "    return count\n",
    "\n",
    "def frequentPattern(count): \n",
    "    maxNumber = max(count)\n",
    "    pattern = set()\n",
    "    for i in range(len(count)):\n",
    "        if count[i] == maxNumber:\n",
    "            pattern.update({text[i : i + k]})\n",
    "    pattern = ' '.join(pattern)\n",
    "    return pattern\n",
    "\n",
    "if __name__ == '__main__':\n",
    "    text = 'ATGCGGAAGCTTGGCACTACTTGAAATGCGGAAGCTTGGCACGCTTGGCACGCTTGGCACTATCCGCTCTTACTTGAAATGCGGAAGCTTGGCACTATCCGCTCTATGCGGAATATCCGCTCTAGGAAATAGAAGGAAATAGAAGGAAATAGAATGCGGAAGCTTGGCACAGGAAATAGAGCTTGGCACAGGAAATAGATATCCGCTCTTACTTGAAGCTTGGCACAGGAAATAGATACTTGAAATGCGGAATATCCGCTCTGCTTGGCACATGCGGAAAGGAAATAGAATGCGGAAGCTTGGCACTACTTGAAATGCGGAATACTTGAAGCTTGGCACATGCGGAATATCCGCTCTAGGAAATAGAATGCGGAATACTTGAATACTTGAAGCTTGGCACATGCGGAAGCTTGGCACTATCCGCTCTAGGAAATAGATACTTGAAAGGAAATAGATATCCGCTCTGCTTGGCACTATCCGCTCTATGCGGAAGCTTGGCACTATCCGCTCTAGGAAATAGATACTTGAATACTTGAATATCCGCTCTTACTTGAAATGCGGAAAGGAAATAGAGCTTGGCACTATCCGCTCTTATCCGCTCTTATCCGCTCTAGGAAATAGATACTTGAAAGGAAATAGATACTTGAAATGCGGAATACTTGAAATGCGGAAATGCGGAAATGCGGAAGCTTGGCACATGCGGAATATCCGCTCTATGCGGAATATCCGCTCTGCTTGGCACTACTTGAAAGGAAATAGATACTTGAATACTTGAAGCTTGGCACTATCCGCTCTAGGAAATAGATACTTGAAATGCGGAATACTTGAAATGCGGAAGCTTGGCACAGGAAATAGAATGCGGAAAGGAAATAGAGCTTGGCACTACTTGAATATCCGCTCTAGGAAATAGATACTTGAAAGGAAATAGAGCTTGGCAC'\n",
    "    k = 13\n",
    "    count = MostFrequentWord(text, k)\n",
    "    pattern = frequentPattern(count)\n",
    "    print(pattern)"
   ]
  }
 ],
 "metadata": {
  "kernelspec": {
   "display_name": "Python 3",
   "language": "python",
   "name": "python3"
  },
  "language_info": {
   "codemirror_mode": {
    "name": "ipython",
    "version": 3
   },
   "file_extension": ".py",
   "mimetype": "text/x-python",
   "name": "python",
   "nbconvert_exporter": "python",
   "pygments_lexer": "ipython3",
   "version": "3.8.8"
  }
 },
 "nbformat": 4,
 "nbformat_minor": 5
}
