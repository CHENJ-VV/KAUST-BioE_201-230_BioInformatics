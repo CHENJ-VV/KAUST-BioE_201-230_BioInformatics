{
 "cells": [
  {
   "cell_type": "code",
   "execution_count": 1,
   "id": "021987d8",
   "metadata": {},
   "outputs": [],
   "source": [
    "def pairToNumber(string):\n",
    "    n = len(string)\n",
    "    digit = [0] * n\n",
    "    for i in range(n):\n",
    "        if string[i] == 'A':\n",
    "            digit[i] = 0\n",
    "        if string[i] == 'C':\n",
    "            digit[i] = 1\n",
    "        if string[i] == 'G':\n",
    "            digit[i] = 2\n",
    "        if string[i] == 'T':\n",
    "            digit[i] = 3\n",
    "    return digit"
   ]
  },
  {
   "cell_type": "code",
   "execution_count": 3,
   "id": "a9401974",
   "metadata": {},
   "outputs": [],
   "source": [
    "def computeDNA(digit):\n",
    "    n = len(digit)\n",
    "    DNANumber = 0\n",
    "    for i in range(n):\n",
    "        convertNumber = digit[i] * (4**(n - i - 1))\n",
    "        DNANumber = DNANumber + convertNumber\n",
    "    return DNANumber"
   ]
  },
  {
   "cell_type": "code",
   "execution_count": 6,
   "id": "9a2682bc",
   "metadata": {},
   "outputs": [
    {
     "name": "stdout",
     "output_type": "stream",
     "text": [
      "59004860343580\n"
     ]
    }
   ],
   "source": [
    "if __name__ == '__main__':\n",
    "    string = 'TCCGGGGAGATGTTCGGCCACTA'\n",
    "    digit = pairToNumber(string)\n",
    "    DNANUM = computeDNA(digit)\n",
    "    print(DNANUM)"
   ]
  }
 ],
 "metadata": {
  "kernelspec": {
   "display_name": "Python 3",
   "language": "python",
   "name": "python3"
  },
  "language_info": {
   "codemirror_mode": {
    "name": "ipython",
    "version": 3
   },
   "file_extension": ".py",
   "mimetype": "text/x-python",
   "name": "python",
   "nbconvert_exporter": "python",
   "pygments_lexer": "ipython3",
   "version": "3.8.8"
  }
 },
 "nbformat": 4,
 "nbformat_minor": 5
}
